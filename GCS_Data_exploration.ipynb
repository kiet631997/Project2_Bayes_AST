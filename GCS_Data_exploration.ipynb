{
 "cells": [
  {
   "cell_type": "code",
   "execution_count": 1,
   "metadata": {},
   "outputs": [],
   "source": [
    "import pandas as pd\n",
    "import numpy as np\n",
    "import matplotlib.pyplot as plt\n",
    "import math"
   ]
  },
  {
   "cell_type": "markdown",
   "metadata": {},
   "source": [
    "See paper: https://arxiv.org/pdf/1306.2247.pdf"
   ]
  },
  {
   "cell_type": "code",
   "execution_count": 5,
   "metadata": {},
   "outputs": [
    {
     "data": {
      "text/plain": [
       "Galaxy      object\n",
       "OtherID     object\n",
       "RA         float64\n",
       "DEC        float64\n",
       "Type        object\n",
       "D          float64\n",
       "D+-        float64\n",
       "Method      object\n",
       "A_V        float64\n",
       "M_V^T      float64\n",
       "M_V^T+-    float64\n",
       "M_K        float64\n",
       "M_K+-      float64\n",
       "N(GC)      float64\n",
       "N(GC)+-    float64\n",
       "Source      object\n",
       "sig_e      float64\n",
       "sig_e+-    float64\n",
       "R_e        float64\n",
       "R_e+-      float64\n",
       "lgM_d      float64\n",
       "lgM_d+-    float64\n",
       "lgM_G      float64\n",
       "lgM_G+-    float64\n",
       "lgM_B      float64\n",
       "lgM_B+     float64\n",
       "lgM_B-     float64\n",
       "hr         float64\n",
       "deg        float64\n",
       "Mpc        float64\n",
       "km/s       float64\n",
       "kpc        float64\n",
       "M_sun      float64\n",
       "M_sun.1    float64\n",
       "M_sun.2    float64\n",
       "dtype: object"
      ]
     },
     "execution_count": 5,
     "metadata": {},
     "output_type": "execute_result"
    }
   ],
   "source": [
    "datatypes = {'N(GC)':'float64'}\n",
    "df = pd.read_csv('GCS_table.txt', header=36, sep=\"\\s+\", skip_blank_lines=False, na_values='nd')\n",
    "# df['N(GC)'] = df['N(GC)'].astype('float64')\n",
    "df.dtypes"
   ]
  },
  {
   "cell_type": "code",
   "execution_count": 6,
   "metadata": {},
   "outputs": [
    {
     "data": {
      "text/plain": [
       "0        160.0\n",
       "1          1.0\n",
       "2        150.0\n",
       "3         36.0\n",
       "4         10.0\n",
       "        ...   \n",
       "417     2833.0\n",
       "418    18000.0\n",
       "419      850.0\n",
       "420     3000.0\n",
       "421       17.0\n",
       "Name: N(GC), Length: 422, dtype: float64"
      ]
     },
     "execution_count": 6,
     "metadata": {},
     "output_type": "execute_result"
    }
   ],
   "source": [
    "pd.to_numeric(df['N(GC)'])"
   ]
  },
  {
   "cell_type": "code",
   "execution_count": 7,
   "metadata": {},
   "outputs": [
    {
     "data": {
      "text/html": [
       "<div>\n",
       "<style scoped>\n",
       "    .dataframe tbody tr th:only-of-type {\n",
       "        vertical-align: middle;\n",
       "    }\n",
       "\n",
       "    .dataframe tbody tr th {\n",
       "        vertical-align: top;\n",
       "    }\n",
       "\n",
       "    .dataframe thead th {\n",
       "        text-align: right;\n",
       "    }\n",
       "</style>\n",
       "<table border=\"1\" class=\"dataframe\">\n",
       "  <thead>\n",
       "    <tr style=\"text-align: right;\">\n",
       "      <th></th>\n",
       "      <th>Galaxy</th>\n",
       "      <th>OtherID</th>\n",
       "      <th>RA</th>\n",
       "      <th>DEC</th>\n",
       "      <th>Type</th>\n",
       "      <th>D</th>\n",
       "      <th>D+-</th>\n",
       "      <th>Method</th>\n",
       "      <th>A_V</th>\n",
       "      <th>M_V^T</th>\n",
       "      <th>...</th>\n",
       "      <th>lgM_B+</th>\n",
       "      <th>lgM_B-</th>\n",
       "      <th>hr</th>\n",
       "      <th>deg</th>\n",
       "      <th>Mpc</th>\n",
       "      <th>km/s</th>\n",
       "      <th>kpc</th>\n",
       "      <th>M_sun</th>\n",
       "      <th>M_sun.1</th>\n",
       "      <th>M_sun.2</th>\n",
       "    </tr>\n",
       "  </thead>\n",
       "  <tbody>\n",
       "    <tr>\n",
       "      <th>0</th>\n",
       "      <td>MilkyWay</td>\n",
       "      <td>nid</td>\n",
       "      <td>NaN</td>\n",
       "      <td>NaN</td>\n",
       "      <td>Sbc</td>\n",
       "      <td>NaN</td>\n",
       "      <td>NaN</td>\n",
       "      <td>geometry</td>\n",
       "      <td>0.000</td>\n",
       "      <td>-21.30</td>\n",
       "      <td>...</td>\n",
       "      <td>0.04</td>\n",
       "      <td>0.04</td>\n",
       "      <td>NaN</td>\n",
       "      <td>NaN</td>\n",
       "      <td>NaN</td>\n",
       "      <td>NaN</td>\n",
       "      <td>NaN</td>\n",
       "      <td>NaN</td>\n",
       "      <td>NaN</td>\n",
       "      <td>NaN</td>\n",
       "    </tr>\n",
       "    <tr>\n",
       "      <th>1</th>\n",
       "      <td>WLM</td>\n",
       "      <td>DDO-221</td>\n",
       "      <td>0.032838</td>\n",
       "      <td>-15.460928</td>\n",
       "      <td>Irr</td>\n",
       "      <td>1.00</td>\n",
       "      <td>0.10</td>\n",
       "      <td>TRGB/Cepheid</td>\n",
       "      <td>0.088</td>\n",
       "      <td>-14.84</td>\n",
       "      <td>...</td>\n",
       "      <td>NaN</td>\n",
       "      <td>NaN</td>\n",
       "      <td>NaN</td>\n",
       "      <td>NaN</td>\n",
       "      <td>NaN</td>\n",
       "      <td>NaN</td>\n",
       "      <td>NaN</td>\n",
       "      <td>NaN</td>\n",
       "      <td>NaN</td>\n",
       "      <td>NaN</td>\n",
       "    </tr>\n",
       "    <tr>\n",
       "      <th>2</th>\n",
       "      <td>NGC7814</td>\n",
       "      <td>nid</td>\n",
       "      <td>0.054144</td>\n",
       "      <td>16.145548</td>\n",
       "      <td>Sab</td>\n",
       "      <td>13.18</td>\n",
       "      <td>0.88</td>\n",
       "      <td>SBF</td>\n",
       "      <td>0.147</td>\n",
       "      <td>-20.18</td>\n",
       "      <td>...</td>\n",
       "      <td>NaN</td>\n",
       "      <td>NaN</td>\n",
       "      <td>NaN</td>\n",
       "      <td>NaN</td>\n",
       "      <td>NaN</td>\n",
       "      <td>NaN</td>\n",
       "      <td>NaN</td>\n",
       "      <td>NaN</td>\n",
       "      <td>NaN</td>\n",
       "      <td>NaN</td>\n",
       "    </tr>\n",
       "    <tr>\n",
       "      <th>3</th>\n",
       "      <td>NGC55</td>\n",
       "      <td>nid</td>\n",
       "      <td>0.248224</td>\n",
       "      <td>-39.196582</td>\n",
       "      <td>SBm</td>\n",
       "      <td>2.09</td>\n",
       "      <td>0.08</td>\n",
       "      <td>TRGB/Cepheid</td>\n",
       "      <td>0.036</td>\n",
       "      <td>-18.77</td>\n",
       "      <td>...</td>\n",
       "      <td>NaN</td>\n",
       "      <td>NaN</td>\n",
       "      <td>NaN</td>\n",
       "      <td>NaN</td>\n",
       "      <td>NaN</td>\n",
       "      <td>NaN</td>\n",
       "      <td>NaN</td>\n",
       "      <td>NaN</td>\n",
       "      <td>NaN</td>\n",
       "      <td>NaN</td>\n",
       "    </tr>\n",
       "    <tr>\n",
       "      <th>4</th>\n",
       "      <td>NGC147</td>\n",
       "      <td>nid</td>\n",
       "      <td>0.553330</td>\n",
       "      <td>48.508600</td>\n",
       "      <td>E5</td>\n",
       "      <td>0.76</td>\n",
       "      <td>0.10</td>\n",
       "      <td>TRGB/SBF</td>\n",
       "      <td>0.475</td>\n",
       "      <td>-15.46</td>\n",
       "      <td>...</td>\n",
       "      <td>NaN</td>\n",
       "      <td>NaN</td>\n",
       "      <td>NaN</td>\n",
       "      <td>NaN</td>\n",
       "      <td>NaN</td>\n",
       "      <td>NaN</td>\n",
       "      <td>NaN</td>\n",
       "      <td>NaN</td>\n",
       "      <td>NaN</td>\n",
       "      <td>NaN</td>\n",
       "    </tr>\n",
       "  </tbody>\n",
       "</table>\n",
       "<p>5 rows × 35 columns</p>\n",
       "</div>"
      ],
      "text/plain": [
       "     Galaxy  OtherID        RA        DEC Type      D   D+-        Method  \\\n",
       "0  MilkyWay      nid       NaN        NaN  Sbc    NaN   NaN      geometry   \n",
       "1       WLM  DDO-221  0.032838 -15.460928  Irr   1.00  0.10  TRGB/Cepheid   \n",
       "2   NGC7814      nid  0.054144  16.145548  Sab  13.18  0.88           SBF   \n",
       "3     NGC55      nid  0.248224 -39.196582  SBm   2.09  0.08  TRGB/Cepheid   \n",
       "4    NGC147      nid  0.553330  48.508600   E5   0.76  0.10      TRGB/SBF   \n",
       "\n",
       "     A_V  M_V^T  ...  lgM_B+  lgM_B-  hr  deg  Mpc km/s  kpc  M_sun  M_sun.1  \\\n",
       "0  0.000 -21.30  ...    0.04    0.04 NaN  NaN  NaN  NaN  NaN    NaN      NaN   \n",
       "1  0.088 -14.84  ...     NaN     NaN NaN  NaN  NaN  NaN  NaN    NaN      NaN   \n",
       "2  0.147 -20.18  ...     NaN     NaN NaN  NaN  NaN  NaN  NaN    NaN      NaN   \n",
       "3  0.036 -18.77  ...     NaN     NaN NaN  NaN  NaN  NaN  NaN    NaN      NaN   \n",
       "4  0.475 -15.46  ...     NaN     NaN NaN  NaN  NaN  NaN  NaN    NaN      NaN   \n",
       "\n",
       "   M_sun.2  \n",
       "0      NaN  \n",
       "1      NaN  \n",
       "2      NaN  \n",
       "3      NaN  \n",
       "4      NaN  \n",
       "\n",
       "[5 rows x 35 columns]"
      ]
     },
     "execution_count": 7,
     "metadata": {},
     "output_type": "execute_result"
    }
   ],
   "source": [
    "df.head()"
   ]
  },
  {
   "cell_type": "code",
   "execution_count": 247,
   "metadata": {},
   "outputs": [
    {
     "name": "stdout",
     "output_type": "stream",
     "text": [
      "1 Galaxy\n",
      "2 OtherID\n",
      "3 RA\n",
      "4 DEC\n",
      "5 Type\n",
      "6 D\n",
      "7 D+-\n",
      "8 Method\n",
      "9 A_V\n",
      "10 M_V^T\n",
      "11 M_V^T+-\n",
      "12 M_K\n",
      "13 M_K+-\n",
      "14 N(GC)\n",
      "15 N(GC)+-\n",
      "16 Source\n",
      "17 sig_e\n",
      "18 sig_e+-\n",
      "19 R_e\n",
      "20 R_e+-\n",
      "21 lgM_d\n",
      "22 lgM_d+-\n",
      "23 lgM_G\n",
      "24 lgM_G+-\n",
      "25 lgM_B\n",
      "26 lgM_B+\n",
      "27 lgM_B-\n",
      "28 hr\n",
      "29 deg\n",
      "30 Mpc\n",
      "31 km/s\n",
      "32 kpc\n",
      "33 M_sun\n",
      "34 M_sun.1\n",
      "35 M_sun.2\n"
     ]
    }
   ],
   "source": [
    "i = 1\n",
    "for col in df.columns:\n",
    "    print(i, col)\n",
    "    i+=1"
   ]
  },
  {
   "cell_type": "code",
   "execution_count": 10,
   "metadata": {},
   "outputs": [
    {
     "data": {
      "text/plain": [
       "0        160.0\n",
       "1          1.0\n",
       "2        150.0\n",
       "3         36.0\n",
       "4         10.0\n",
       "        ...   \n",
       "417     2833.0\n",
       "418    18000.0\n",
       "419      850.0\n",
       "420     3000.0\n",
       "421       17.0\n",
       "Name: N(GC), Length: 422, dtype: float64"
      ]
     },
     "execution_count": 10,
     "metadata": {},
     "output_type": "execute_result"
    }
   ],
   "source": [
    "df['N(GC)']"
   ]
  },
  {
   "cell_type": "code",
   "execution_count": 11,
   "metadata": {},
   "outputs": [
    {
     "data": {
      "text/plain": [
       "Text(0, 0.5, 'Number of globular clusters')"
      ]
     },
     "execution_count": 11,
     "metadata": {},
     "output_type": "execute_result"
    },
    {
     "data": {
      "image/png": "[encoded data removed]",
      "text/plain": [
       "<Figure size 432x288 with 1 Axes>"
      ]
     },
     "metadata": {
      "needs_background": "light"
     },
     "output_type": "display_data"
    }
   ],
   "source": [
    "fig, ax = plt.subplots()\n",
    "ax.scatter(df['lgM_d'], df['N(GC)'])\n",
    "ax.set_yscale(\"log\")\n",
    "ax.set_xlabel(\"log galaxy dynamical mass\")\n",
    "ax.set_ylabel(\"Number of globular clusters\")"
   ]
  },
  {
   "cell_type": "code",
   "execution_count": 252,
   "metadata": {},
   "outputs": [
    {
     "data": {
      "text/plain": [
       "Text(0, 0.5, 'Number of globular clusters')"
      ]
     },
     "execution_count": 252,
     "metadata": {},
     "output_type": "execute_result"
    },
    {
     "data": {
      "image/png": "[encoded data removed]",
      "text/plain": [
       "<Figure size 640x480 with 1 Axes>"
      ]
     },
     "metadata": {},
     "output_type": "display_data"
    }
   ],
   "source": [
    "fig, ax = plt.subplots()\n",
    "ax.scatter(df['lgM_d'], df['N(GC)'], alpha=0.57)\n",
    "ax.set_yscale(\"log\")\n",
    "ax.set_xlabel(\"log galaxy dynamical mass\")\n",
    "ax.set_ylabel(\"Number of globular clusters\")"
   ]
  },
  {
   "cell_type": "markdown",
   "metadata": {},
   "source": [
    "Restrict galaxy mass to between 10.5 and 11.5"
   ]
  },
  {
   "cell_type": "code",
   "execution_count": 12,
   "metadata": {},
   "outputs": [
    {
     "name": "stdout",
     "output_type": "stream",
     "text": [
      "74\n"
     ]
    },
    {
     "data": {
      "text/html": [
       "<div>\n",
       "<style scoped>\n",
       "    .dataframe tbody tr th:only-of-type {\n",
       "        vertical-align: middle;\n",
       "    }\n",
       "\n",
       "    .dataframe tbody tr th {\n",
       "        vertical-align: top;\n",
       "    }\n",
       "\n",
       "    .dataframe thead th {\n",
       "        text-align: right;\n",
       "    }\n",
       "</style>\n",
       "<table border=\"1\" class=\"dataframe\">\n",
       "  <thead>\n",
       "    <tr style=\"text-align: right;\">\n",
       "      <th></th>\n",
       "      <th>Galaxy</th>\n",
       "      <th>OtherID</th>\n",
       "      <th>RA</th>\n",
       "      <th>DEC</th>\n",
       "      <th>Type</th>\n",
       "      <th>D</th>\n",
       "      <th>D+-</th>\n",
       "      <th>Method</th>\n",
       "      <th>A_V</th>\n",
       "      <th>M_V^T</th>\n",
       "      <th>...</th>\n",
       "      <th>lgM_B+</th>\n",
       "      <th>lgM_B-</th>\n",
       "      <th>hr</th>\n",
       "      <th>deg</th>\n",
       "      <th>Mpc</th>\n",
       "      <th>km/s</th>\n",
       "      <th>kpc</th>\n",
       "      <th>M_sun</th>\n",
       "      <th>M_sun.1</th>\n",
       "      <th>M_sun.2</th>\n",
       "    </tr>\n",
       "  </thead>\n",
       "  <tbody>\n",
       "    <tr>\n",
       "      <th>2</th>\n",
       "      <td>NGC7814</td>\n",
       "      <td>nid</td>\n",
       "      <td>0.054144</td>\n",
       "      <td>16.145548</td>\n",
       "      <td>Sab</td>\n",
       "      <td>13.18</td>\n",
       "      <td>0.88</td>\n",
       "      <td>SBF</td>\n",
       "      <td>0.147</td>\n",
       "      <td>-20.18</td>\n",
       "      <td>...</td>\n",
       "      <td>NaN</td>\n",
       "      <td>NaN</td>\n",
       "      <td>NaN</td>\n",
       "      <td>NaN</td>\n",
       "      <td>NaN</td>\n",
       "      <td>NaN</td>\n",
       "      <td>NaN</td>\n",
       "      <td>NaN</td>\n",
       "      <td>NaN</td>\n",
       "      <td>NaN</td>\n",
       "    </tr>\n",
       "    <tr>\n",
       "      <th>8</th>\n",
       "      <td>NGC224</td>\n",
       "      <td>M31</td>\n",
       "      <td>0.712316</td>\n",
       "      <td>41.268883</td>\n",
       "      <td>Sb</td>\n",
       "      <td>0.77</td>\n",
       "      <td>0.02</td>\n",
       "      <td>TRGB/Cepheid</td>\n",
       "      <td>0.170</td>\n",
       "      <td>-21.80</td>\n",
       "      <td>...</td>\n",
       "      <td>0.2</td>\n",
       "      <td>0.1</td>\n",
       "      <td>NaN</td>\n",
       "      <td>NaN</td>\n",
       "      <td>NaN</td>\n",
       "      <td>NaN</td>\n",
       "      <td>NaN</td>\n",
       "      <td>NaN</td>\n",
       "      <td>NaN</td>\n",
       "      <td>NaN</td>\n",
       "    </tr>\n",
       "    <tr>\n",
       "      <th>10</th>\n",
       "      <td>NGC253</td>\n",
       "      <td>nid</td>\n",
       "      <td>0.792531</td>\n",
       "      <td>-25.288442</td>\n",
       "      <td>SABc</td>\n",
       "      <td>3.54</td>\n",
       "      <td>0.20</td>\n",
       "      <td>TRGB</td>\n",
       "      <td>0.051</td>\n",
       "      <td>-21.01</td>\n",
       "      <td>...</td>\n",
       "      <td>0.3</td>\n",
       "      <td>0.3</td>\n",
       "      <td>NaN</td>\n",
       "      <td>NaN</td>\n",
       "      <td>NaN</td>\n",
       "      <td>NaN</td>\n",
       "      <td>NaN</td>\n",
       "      <td>NaN</td>\n",
       "      <td>NaN</td>\n",
       "      <td>NaN</td>\n",
       "    </tr>\n",
       "    <tr>\n",
       "      <th>15</th>\n",
       "      <td>NGC474</td>\n",
       "      <td>nid</td>\n",
       "      <td>1.335186</td>\n",
       "      <td>3.415338</td>\n",
       "      <td>S0</td>\n",
       "      <td>29.51</td>\n",
       "      <td>1.53</td>\n",
       "      <td>SBF</td>\n",
       "      <td>0.094</td>\n",
       "      <td>-20.97</td>\n",
       "      <td>...</td>\n",
       "      <td>NaN</td>\n",
       "      <td>NaN</td>\n",
       "      <td>NaN</td>\n",
       "      <td>NaN</td>\n",
       "      <td>NaN</td>\n",
       "      <td>NaN</td>\n",
       "      <td>NaN</td>\n",
       "      <td>NaN</td>\n",
       "      <td>NaN</td>\n",
       "      <td>NaN</td>\n",
       "    </tr>\n",
       "    <tr>\n",
       "      <th>18</th>\n",
       "      <td>NGC584</td>\n",
       "      <td>nid</td>\n",
       "      <td>1.522418</td>\n",
       "      <td>-6.868051</td>\n",
       "      <td>E4</td>\n",
       "      <td>20.14</td>\n",
       "      <td>1.94</td>\n",
       "      <td>SBF</td>\n",
       "      <td>0.140</td>\n",
       "      <td>-21.18</td>\n",
       "      <td>...</td>\n",
       "      <td>NaN</td>\n",
       "      <td>NaN</td>\n",
       "      <td>NaN</td>\n",
       "      <td>NaN</td>\n",
       "      <td>NaN</td>\n",
       "      <td>NaN</td>\n",
       "      <td>NaN</td>\n",
       "      <td>NaN</td>\n",
       "      <td>NaN</td>\n",
       "      <td>NaN</td>\n",
       "    </tr>\n",
       "  </tbody>\n",
       "</table>\n",
       "<p>5 rows × 35 columns</p>\n",
       "</div>"
      ],
      "text/plain": [
       "     Galaxy OtherID        RA        DEC  Type      D   D+-        Method  \\\n",
       "2   NGC7814     nid  0.054144  16.145548   Sab  13.18  0.88           SBF   \n",
       "8    NGC224     M31  0.712316  41.268883    Sb   0.77  0.02  TRGB/Cepheid   \n",
       "10   NGC253     nid  0.792531 -25.288442  SABc   3.54  0.20          TRGB   \n",
       "15   NGC474     nid  1.335186   3.415338    S0  29.51  1.53           SBF   \n",
       "18   NGC584     nid  1.522418  -6.868051    E4  20.14  1.94           SBF   \n",
       "\n",
       "      A_V  M_V^T  ...  lgM_B+  lgM_B-  hr  deg  Mpc km/s  kpc  M_sun  M_sun.1  \\\n",
       "2   0.147 -20.18  ...     NaN     NaN NaN  NaN  NaN  NaN  NaN    NaN      NaN   \n",
       "8   0.170 -21.80  ...     0.2     0.1 NaN  NaN  NaN  NaN  NaN    NaN      NaN   \n",
       "10  0.051 -21.01  ...     0.3     0.3 NaN  NaN  NaN  NaN  NaN    NaN      NaN   \n",
       "15  0.094 -20.97  ...     NaN     NaN NaN  NaN  NaN  NaN  NaN    NaN      NaN   \n",
       "18  0.140 -21.18  ...     NaN     NaN NaN  NaN  NaN  NaN  NaN    NaN      NaN   \n",
       "\n",
       "    M_sun.2  \n",
       "2       NaN  \n",
       "8       NaN  \n",
       "10      NaN  \n",
       "15      NaN  \n",
       "18      NaN  \n",
       "\n",
       "[5 rows x 35 columns]"
      ]
     },
     "execution_count": 12,
     "metadata": {},
     "output_type": "execute_result"
    }
   ],
   "source": [
    "d = df[ (df['lgM_d'] > 10.5)  & (df['lgM_d'] < 11.2)]\n",
    "print(len(d))\n",
    "d.head()"
   ]
  }
 ],
 "metadata": {
  "interpreter": {
   "hash": "be7a349de6b82327b193ecd6fa07768948125de2f9f0ff14d19d227c0b591341"
  },
  "kernelspec": {
   "display_name": "Python 3 (ipykernel)",
   "language": "python",
   "name": "python3"
  },
  "language_info": {
   "codemirror_mode": {
    "name": "ipython",
    "version": 3
   },
   "file_extension": ".py",
   "mimetype": "text/x-python",
   "name": "python",
   "nbconvert_exporter": "python",
   "pygments_lexer": "ipython3",
   "version": "3.9.12"
  },
  "vscode": {
   "interpreter": {
    "hash": "916dbcbb3f70747c44a77c7bcd40155683ae19c65e1c03b4aa3499c5328201f1"
   }
  }
 },
 "nbformat": 4,
 "nbformat_minor": 2
}
