import pandas as pd
import numpy as np
import matplotlib.pyplot as plt
from astropy.table import Table

df = Table.read('https://www.astro.keele.ac.uk/jkt/debcat/debs.dat', format='ascii').to_pandas()

#filter out erroneous values
df = df[df['logL1'] > -3]

logT1 = df["logT1"]
logT1 = np.array(logT1)
logL1 = df["logL1"]
logL1 = np.array(logL1)

plt.scatter(logT1, logL1)
plt.xlabel('Log(T/T_sol)')
plt.ylabel('Log(L/L_sol)')

plt.hist(logL1, bins=30)

#y given x is normally distributed
#need to filter out red giant cluster but other than that this could work
